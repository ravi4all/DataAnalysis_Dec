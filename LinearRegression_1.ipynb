{
 "cells": [
  {
   "cell_type": "code",
   "execution_count": 1,
   "metadata": {
    "collapsed": true
   },
   "outputs": [],
   "source": [
    "from sklearn.linear_model import LinearRegression\n",
    "import pandas as pd"
   ]
  },
  {
   "cell_type": "code",
   "execution_count": 2,
   "metadata": {
    "collapsed": true
   },
   "outputs": [],
   "source": [
    "dataset = pd.read_csv('tv_show_viewers_datasest.csv')"
   ]
  },
  {
   "cell_type": "code",
   "execution_count": 3,
   "metadata": {},
   "outputs": [
    {
     "data": {
      "text/html": [
       "<div>\n",
       "<style>\n",
       "    .dataframe thead tr:only-child th {\n",
       "        text-align: right;\n",
       "    }\n",
       "\n",
       "    .dataframe thead th {\n",
       "        text-align: left;\n",
       "    }\n",
       "\n",
       "    .dataframe tbody tr th {\n",
       "        vertical-align: top;\n",
       "    }\n",
       "</style>\n",
       "<table border=\"1\" class=\"dataframe\">\n",
       "  <thead>\n",
       "    <tr style=\"text-align: right;\">\n",
       "      <th></th>\n",
       "      <th>Episode</th>\n",
       "      <th>Character1_appeared</th>\n",
       "      <th>Character2_appeared</th>\n",
       "      <th>Character3_appeared</th>\n",
       "      <th>Character4_appeared</th>\n",
       "      <th>Character5_appeared</th>\n",
       "      <th>Fight_scenes</th>\n",
       "      <th>Comedy_scences</th>\n",
       "      <th>Romance_scence</th>\n",
       "      <th>Viewers</th>\n",
       "    </tr>\n",
       "  </thead>\n",
       "  <tbody>\n",
       "    <tr>\n",
       "      <th>0</th>\n",
       "      <td>Episode001</td>\n",
       "      <td>3</td>\n",
       "      <td>5</td>\n",
       "      <td>2</td>\n",
       "      <td>4</td>\n",
       "      <td>4</td>\n",
       "      <td>3</td>\n",
       "      <td>7</td>\n",
       "      <td>9</td>\n",
       "      <td>888983</td>\n",
       "    </tr>\n",
       "    <tr>\n",
       "      <th>1</th>\n",
       "      <td>Episode002</td>\n",
       "      <td>4</td>\n",
       "      <td>6</td>\n",
       "      <td>3</td>\n",
       "      <td>5</td>\n",
       "      <td>3</td>\n",
       "      <td>4</td>\n",
       "      <td>8</td>\n",
       "      <td>7</td>\n",
       "      <td>888737</td>\n",
       "    </tr>\n",
       "    <tr>\n",
       "      <th>2</th>\n",
       "      <td>Episode003</td>\n",
       "      <td>2</td>\n",
       "      <td>4</td>\n",
       "      <td>1</td>\n",
       "      <td>3</td>\n",
       "      <td>5</td>\n",
       "      <td>2</td>\n",
       "      <td>6</td>\n",
       "      <td>8</td>\n",
       "      <td>887743</td>\n",
       "    </tr>\n",
       "    <tr>\n",
       "      <th>3</th>\n",
       "      <td>Episode004</td>\n",
       "      <td>4</td>\n",
       "      <td>6</td>\n",
       "      <td>3</td>\n",
       "      <td>5</td>\n",
       "      <td>2</td>\n",
       "      <td>5</td>\n",
       "      <td>8</td>\n",
       "      <td>7</td>\n",
       "      <td>808437</td>\n",
       "    </tr>\n",
       "    <tr>\n",
       "      <th>4</th>\n",
       "      <td>Episode005</td>\n",
       "      <td>5</td>\n",
       "      <td>7</td>\n",
       "      <td>4</td>\n",
       "      <td>6</td>\n",
       "      <td>4</td>\n",
       "      <td>2</td>\n",
       "      <td>6</td>\n",
       "      <td>6</td>\n",
       "      <td>777626</td>\n",
       "    </tr>\n",
       "  </tbody>\n",
       "</table>\n",
       "</div>"
      ],
      "text/plain": [
       "      Episode  Character1_appeared  Character2_appeared  Character3_appeared  \\\n",
       "0  Episode001                    3                    5                    2   \n",
       "1  Episode002                    4                    6                    3   \n",
       "2  Episode003                    2                    4                    1   \n",
       "3  Episode004                    4                    6                    3   \n",
       "4  Episode005                    5                    7                    4   \n",
       "\n",
       "   Character4_appeared  Character5_appeared  Fight_scenes  Comedy_scences  \\\n",
       "0                    4                    4             3               7   \n",
       "1                    5                    3             4               8   \n",
       "2                    3                    5             2               6   \n",
       "3                    5                    2             5               8   \n",
       "4                    6                    4             2               6   \n",
       "\n",
       "   Romance_scence  Viewers  \n",
       "0               9   888983  \n",
       "1               7   888737  \n",
       "2               8   887743  \n",
       "3               7   808437  \n",
       "4               6   777626  "
      ]
     },
     "execution_count": 3,
     "metadata": {},
     "output_type": "execute_result"
    }
   ],
   "source": [
    "dataset.head()"
   ]
  },
  {
   "cell_type": "code",
   "execution_count": 4,
   "metadata": {
    "collapsed": true
   },
   "outputs": [],
   "source": [
    "def train_test():\n",
    "    \n",
    "    features = []\n",
    "    target = []\n",
    "    \n",
    "    for char_1, char_2, char_3, char_4, char_5, fight, comedy, romance, viewers in zip(dataset['Character1_appeared'],\n",
    "                                                                                      dataset['Character2_appeared'],\n",
    "                                                                                      dataset['Character3_appeared'],\n",
    "                                                                                      dataset['Character4_appeared'],\n",
    "                                                                                      dataset['Character5_appeared'],\n",
    "                                                                                      dataset['Fight_scenes'],\n",
    "                                                                                      dataset['Comedy_scences'],\n",
    "                                                                                      dataset['Romance_scence'],\n",
    "                                                                                      dataset['Viewers']):\n",
    "            features.append([char_1, char_2, char_3, char_4, char_5, fight, comedy, romance])\n",
    "            target.append(viewers)\n",
    "        \n",
    "    return features, target"
   ]
  },
  {
   "cell_type": "code",
   "execution_count": 5,
   "metadata": {
    "collapsed": true
   },
   "outputs": [],
   "source": [
    "train_X, train_Y = train_test()"
   ]
  },
  {
   "cell_type": "code",
   "execution_count": 6,
   "metadata": {},
   "outputs": [
    {
     "data": {
      "text/plain": [
       "[[3, 5, 2, 4, 4, 3, 7, 9],\n",
       " [4, 6, 3, 5, 3, 4, 8, 7],\n",
       " [2, 4, 1, 3, 5, 2, 6, 8],\n",
       " [4, 6, 3, 5, 2, 5, 8, 7],\n",
       " [5, 7, 4, 6, 4, 2, 6, 6],\n",
       " [2, 4, 1, 3, 1, 1, 7, 7],\n",
       " [1, 3, 0, 2, 8, 4, 8, 6],\n",
       " [0, 2, 3, 1, 5, 3, 6, 5],\n",
       " [2, 4, 1, 3, 3, 2, 9, 6],\n",
       " [3, 5, 2, 4, 9, 6, 7, 5],\n",
       " [4, 6, 3, 5, 3, 3, 6, 7],\n",
       " [1, 3, 0, 2, 4, 2, 8, 6],\n",
       " [7, 9, 6, 8, 5, 4, 7, 5],\n",
       " [3, 5, 2, 4, 2, 2, 5, 8],\n",
       " [2, 4, 1, 3, 6, 3, 6, 5],\n",
       " [4, 6, 3, 5, 1, 1, 7, 6],\n",
       " [5, 7, 4, 6, 8, 3, 5, 5],\n",
       " [6, 8, 5, 7, 2, 2, 8, 7],\n",
       " [7, 9, 6, 8, 3, 4, 5, 6],\n",
       " [1, 3, 0, 2, 4, 1, 8, 8],\n",
       " [3, 5, 2, 4, 1, 3, 7, 9],\n",
       " [6, 8, 5, 7, 6, 2, 6, 6],\n",
       " [3, 5, 2, 4, 3, 1, 9, 9],\n",
       " [7, 9, 6, 8, 2, 4, 5, 7],\n",
       " [2, 4, 1, 3, 8, 3, 6, 8],\n",
       " [4, 6, 3, 5, 3, 2, 7, 6],\n",
       " [3, 5, 2, 4, 4, 3, 8, 7],\n",
       " [5, 7, 4, 6, 5, 1, 9, 6],\n",
       " [2, 4, 1, 3, 2, 4, 8, 8],\n",
       " [0, 2, 1, 1, 5, 1, 8, 6],\n",
       " [3, 5, 2, 4, 3, 2, 8, 7],\n",
       " [4, 6, 3, 5, 1, 2, 7, 8],\n",
       " [1, 3, 0, 2, 2, 3, 6, 6],\n",
       " [2, 4, 1, 3, 6, 1, 7, 7],\n",
       " [5, 7, 4, 6, 4, 2, 6, 9],\n",
       " [2, 4, 1, 3, 3, 3, 8, 7],\n",
       " [1, 3, 0, 2, 2, 2, 6, 6],\n",
       " [4, 6, 3, 5, 4, 3, 7, 8],\n",
       " [3, 5, 2, 4, 3, 2, 6, 6],\n",
       " [2, 4, 1, 3, 2, 3, 7, 7],\n",
       " [1, 3, 0, 2, 1, 2, 8, 6],\n",
       " [5, 7, 4, 6, 6, 3, 6, 5],\n",
       " [2, 4, 1, 3, 4, 2, 7, 6],\n",
       " [1, 3, 0, 2, 3, 3, 8, 8],\n",
       " [6, 8, 5, 7, 2, 2, 9, 9],\n",
       " [2, 4, 1, 3, 5, 3, 6, 8],\n",
       " [8, 10, 7, 9, 4, 2, 7, 7],\n",
       " [2, 4, 1, 3, 3, 3, 8, 8],\n",
       " [1, 3, 0, 2, 2, 2, 6, 7],\n",
       " [3, 5, 2, 4, 1, 3, 7, 8]]"
      ]
     },
     "execution_count": 6,
     "metadata": {},
     "output_type": "execute_result"
    }
   ],
   "source": [
    "train_X"
   ]
  },
  {
   "cell_type": "code",
   "execution_count": 7,
   "metadata": {},
   "outputs": [
    {
     "data": {
      "text/plain": [
       "[888983,\n",
       " 888737,\n",
       " 887743,\n",
       " 808437,\n",
       " 777626,\n",
       " 877672,\n",
       " 799867,\n",
       " 656765,\n",
       " 798732,\n",
       " 506556,\n",
       " 696453,\n",
       " 621321,\n",
       " 453234,\n",
       " 897653,\n",
       " 443535,\n",
       " 723454,\n",
       " 354234,\n",
       " 808324,\n",
       " 432534,\n",
       " 886543,\n",
       " 899876,\n",
       " 564533,\n",
       " 908654,\n",
       " 876553,\n",
       " 896574,\n",
       " 723454,\n",
       " 812312,\n",
       " 709876,\n",
       " 897654,\n",
       " 708983,\n",
       " 762342,\n",
       " 875644,\n",
       " 654564,\n",
       " 789564,\n",
       " 921084,\n",
       " 897423,\n",
       " 552342,\n",
       " 798345,\n",
       " 665434,\n",
       " 708345,\n",
       " 609834,\n",
       " 560973,\n",
       " 665453,\n",
       " 987342,\n",
       " 907823,\n",
       " 887623,\n",
       " 708242,\n",
       " 898723,\n",
       " 765434,\n",
       " 883234]"
      ]
     },
     "execution_count": 7,
     "metadata": {},
     "output_type": "execute_result"
    }
   ],
   "source": [
    "train_Y"
   ]
  },
  {
   "cell_type": "code",
   "execution_count": 8,
   "metadata": {},
   "outputs": [
    {
     "data": {
      "text/plain": [
       "LinearRegression(copy_X=True, fit_intercept=True, n_jobs=1, normalize=False)"
      ]
     },
     "execution_count": 8,
     "metadata": {},
     "output_type": "execute_result"
    }
   ],
   "source": [
    "regression = LinearRegression()\n",
    "regression.fit(train_X, train_Y)"
   ]
  },
  {
   "cell_type": "code",
   "execution_count": 9,
   "metadata": {},
   "outputs": [
    {
     "data": {
      "text/plain": [
       "0.76146239427050044"
      ]
     },
     "execution_count": 9,
     "metadata": {},
     "output_type": "execute_result"
    }
   ],
   "source": [
    "regression.score(train_X, train_Y)"
   ]
  },
  {
   "cell_type": "code",
   "execution_count": 10,
   "metadata": {},
   "outputs": [
    {
     "data": {
      "text/plain": [
       "array([ 529362.76709687])"
      ]
     },
     "execution_count": 10,
     "metadata": {},
     "output_type": "execute_result"
    }
   ],
   "source": [
    "regression.predict([[5, 3, 4, 4, 2, 8, 3, 5]])"
   ]
  },
  {
   "cell_type": "code",
   "execution_count": null,
   "metadata": {
    "collapsed": true
   },
   "outputs": [],
   "source": []
  }
 ],
 "metadata": {
  "kernelspec": {
   "display_name": "Python 3",
   "language": "python",
   "name": "python3"
  },
  "language_info": {
   "codemirror_mode": {
    "name": "ipython",
    "version": 3
   },
   "file_extension": ".py",
   "mimetype": "text/x-python",
   "name": "python",
   "nbconvert_exporter": "python",
   "pygments_lexer": "ipython3",
   "version": "3.5.4"
  }
 },
 "nbformat": 4,
 "nbformat_minor": 2
}
